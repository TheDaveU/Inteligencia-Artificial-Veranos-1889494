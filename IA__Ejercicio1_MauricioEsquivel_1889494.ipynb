{
  "nbformat": 4,
  "nbformat_minor": 0,
  "metadata": {
    "colab": {
      "name": "IA _Ejercicio1_MauricioEsquivel_1889494.ipynb",
      "provenance": [],
      "authorship_tag": "ABX9TyNU0sf8saAJyjGfmTc+BbV7",
      "include_colab_link": true
    },
    "kernelspec": {
      "name": "python3",
      "display_name": "Python 3"
    },
    "language_info": {
      "name": "python"
    }
  },
  "cells": [
    {
      "cell_type": "markdown",
      "metadata": {
        "id": "view-in-github",
        "colab_type": "text"
      },
      "source": [
        "<a href=\"https://colab.research.google.com/github/mauej/Inteligencia-Artificial-Veranos-1889494/blob/main/IA__Ejercicio1_MauricioEsquivel_1889494.ipynb\" target=\"_parent\"><img src=\"https://colab.research.google.com/assets/colab-badge.svg\" alt=\"Open In Colab\"/></a>"
      ]
    },
    {
      "cell_type": "markdown",
      "source": [
        "Actividad 2. Ejercicios de python Mauricio Esquivel Jiménez 1889494\n",
        "\n"
      ],
      "metadata": {
        "id": "E9o-UXOMnzKN"
      }
    },
    {
      "cell_type": "code",
      "source": [
        "# Ejercicio 1. \n",
        "#Escribe un programa que le pida al usuario por su nombre y que lo salude con su nombre, excepto si se llama \"Ana\", \"Juan\", o \"Pedro\".\n",
        "Nombre = input(\"Hola, ¿Cómo te llamas?\")\n",
        "if Nombre == \"Ana\" or Nombre == \"Juan\" or Nombre == \"Pedro\":\n",
        "  print (\"Yo ni siquiera se quien eres\")                       # Este es el mensaje que se imprime si te llamas Ana, Juan o Pedro.\n",
        "else:\n",
        "  print (\"Hola\" + Nombre)"
      ],
      "metadata": {
        "colab": {
          "base_uri": "https://localhost:8080/"
        },
        "id": "gdLgiBHpn8f8",
        "outputId": "521c5655-31c2-410f-fd99-cac1dc42fcf6"
      },
      "execution_count": 8,
      "outputs": [
        {
          "output_type": "stream",
          "name": "stdout",
          "text": [
            "Hola, ¿Cómo te llamas?Mauricio\n",
            "HolaMauricio\n"
          ]
        }
      ]
    },
    {
      "cell_type": "code",
      "source": [
        "#  Ejercicio 2.\n",
        "# Escribe una función que regrese el último elemento de una lista y que revierta el orden de la lista e imprima la lista revertida.\n",
        "List = [0,1,2,3,4]                  #Esta es la lista original \n",
        "print (List[-1])                    #Aqui se regresa el último elemento de la lista\n",
        "Listrev = list (range (4, -1, -1))   #Aqui se revierte el orden de la lista\n",
        "print (Listrev)                     # Aqui se imprime la lista revertida\n",
        " "
      ],
      "metadata": {
        "colab": {
          "base_uri": "https://localhost:8080/"
        },
        "id": "FSoUbLSQ5bsB",
        "outputId": "f90a0be2-aa51-4781-f0ee-7cae3de78655"
      },
      "execution_count": 34,
      "outputs": [
        {
          "output_type": "stream",
          "name": "stdout",
          "text": [
            "4\n",
            "[4, 3, 2, 1, 0]\n"
          ]
        }
      ]
    },
    {
      "cell_type": "code",
      "source": [
        "# Ejercicio 3.\n",
        "# Escribe una función que toma una lista de strings y los imprima línea por línea en un marco rectangular.\n",
        "Marco = [\"*******\", \"*Hola *\", \"*a    *\", \"*todos*\", \"*esto *\", \"*es   *\", \"*un   *\", \"*marco*\", \"*******\"]\n",
        "for x in Marco:\n",
        "  print (x)\n"
      ],
      "metadata": {
        "colab": {
          "base_uri": "https://localhost:8080/"
        },
        "id": "PGH1kD2F-B-U",
        "outputId": "44e2044e-c6ec-4cca-bc3f-b49d6624a37b"
      },
      "execution_count": 38,
      "outputs": [
        {
          "output_type": "stream",
          "name": "stdout",
          "text": [
            "*******\n",
            "*Hola *\n",
            "*a    *\n",
            "*todos*\n",
            "*esto *\n",
            "*es   *\n",
            "*un   *\n",
            "*marco*\n",
            "*******\n"
          ]
        }
      ]
    },
    {
      "cell_type": "code",
      "source": [
        "#Ejercicio 3. (segundo intento)\n",
        "for i in range (9):\n",
        "  for j in range (9):\n",
        "    if (i == 0 or i == 8) and (1 <= j <= 9):\n",
        "      print (\"*\", end=\"\")\n",
        "    if (i == 1 and j == 6):\n",
        "      print (\"*Hola  *\", end=\"\")\n",
        "    if (i == 2 and j == 5):\n",
        "      print (\"*a     *\", end=\"\")\n",
        "    if (i == 3 and j == 4):\n",
        "      print (\"*todos *\", end=\"\")\n",
        "    if (i == 4 and j == 3):\n",
        "      print (\"*esto  *\", end=\"\")\n",
        "    if (i == 5 and j == 2):\n",
        "      print (\"*es    *\", end=\"\")\n",
        "    if (i == 6 and j == 1):\n",
        "      print (\"*un    *\", end=\"\")\n",
        "    if (i == 7 and j == 0):\n",
        "      print (\"*marco *\", end=\"\")\n",
        "  print ()\n"
      ],
      "metadata": {
        "colab": {
          "base_uri": "https://localhost:8080/"
        },
        "id": "PhdLMZkyOwuf",
        "outputId": "26f4d496-1745-44d7-b455-46f9a4ad8e85"
      },
      "execution_count": 63,
      "outputs": [
        {
          "output_type": "stream",
          "name": "stdout",
          "text": [
            "********\n",
            "*Hola  *\n",
            "*a     *\n",
            "*todos *\n",
            "*esto  *\n",
            "*es    *\n",
            "*un    *\n",
            "*marco *\n",
            "********\n"
          ]
        }
      ]
    }
  ]
}