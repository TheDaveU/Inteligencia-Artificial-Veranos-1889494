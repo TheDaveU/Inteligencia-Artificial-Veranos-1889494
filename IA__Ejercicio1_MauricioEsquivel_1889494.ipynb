{
  "nbformat": 4,
  "nbformat_minor": 0,
  "metadata": {
    "colab": {
      "name": "IA _Ejercicio1_MauricioEsquivel_1889494.ipynb",
      "provenance": [],
      "authorship_tag": "ABX9TyOJ0hwYf5kQTPYCRP+7OSL1",
      "include_colab_link": true
    },
    "kernelspec": {
      "name": "python3",
      "display_name": "Python 3"
    },
    "language_info": {
      "name": "python"
    }
  },
  "cells": [
    {
      "cell_type": "markdown",
      "metadata": {
        "id": "view-in-github",
        "colab_type": "text"
      },
      "source": [
        "<a href=\"https://colab.research.google.com/github/mauej/Inteligencia-Artificial-Veranos-1889494/blob/main/IA__Ejercicio1_MauricioEsquivel_1889494.ipynb\" target=\"_parent\"><img src=\"https://colab.research.google.com/assets/colab-badge.svg\" alt=\"Open In Colab\"/></a>"
      ]
    },
    {
      "cell_type": "markdown",
      "source": [
        "Actividad 2. Ejercicios de python Mauricio Esquivel Jiménez 1889494\n",
        "\n"
      ],
      "metadata": {
        "id": "E9o-UXOMnzKN"
      }
    },
    {
      "cell_type": "code",
      "source": [
        "# Ejercicio 1. \n",
        "#Escribe un programa que le pida al usuario por su nombre y que lo salude con su nombre, excepto si se llama \"Ana\", \"Juan\", o \"Pedro\".\n",
        "Nombre = input(\"Hola, ¿Cómo te llamas?\")\n",
        "if Nombre == \"Ana\" or Nombre == \"Juan\" or Nombre == \"Pedro\":\n",
        "  print (\"Yo ni siquiera se quien eres\")                       # Este es el mensaje que se imprime si te llamas Ana, Juan o Pedro.\n",
        "else:\n",
        "  print (\"Hola\" + Nombre)"
      ],
      "metadata": {
        "colab": {
          "base_uri": "https://localhost:8080/"
        },
        "id": "gdLgiBHpn8f8",
        "outputId": "1d600131-69c6-489d-9a68-b719951ce5ef"
      },
      "execution_count": 84,
      "outputs": [
        {
          "output_type": "stream",
          "name": "stdout",
          "text": [
            "Hola, ¿Cómo te llamas?Mauricio\n",
            "HolaMauricio\n"
          ]
        }
      ]
    },
    {
      "cell_type": "code",
      "source": [
        "#  Ejercicio 2.\n",
        "# Escribe una función que regrese el último elemento de una lista y que revierta el orden de la lista e imprima la lista revertida.\n",
        "def funcion(lista):                         # Definimos la primera funcion\n",
        "    print (lista[-1])                  \n",
        "def invertir_cadena(lista):                 #Definimos la segunda funcion\n",
        "  return lista[::-1]\n",
        "  print (lista)\n",
        "     \n",
        "  \n",
        "  \n",
        "ejemplo= [1,2,3,4,5,6,7,8]                #Sin importar el numero de datos en la lista, se ejecuta de manera correcta\n",
        "\n",
        "funcion(ejemplo)                          #Ejecutamos la primera funcion\n",
        "invertir_cadena(ejemplo)                  #Ejecutamos la segunda funcion"
      ],
      "metadata": {
        "colab": {
          "base_uri": "https://localhost:8080/"
        },
        "id": "FSoUbLSQ5bsB",
        "outputId": "9ca7f623-afc4-4567-a6dd-16f2596305f1"
      },
      "execution_count": 85,
      "outputs": [
        {
          "output_type": "stream",
          "name": "stdout",
          "text": [
            "8\n"
          ]
        },
        {
          "output_type": "execute_result",
          "data": {
            "text/plain": [
              "[8, 7, 6, 5, 4, 3, 2, 1]"
            ]
          },
          "metadata": {},
          "execution_count": 85
        }
      ]
    },
    {
      "cell_type": "code",
      "source": [
        "# Ejercicio 3.\n",
        "# Escribe una función que toma una lista de strings y los imprima línea por línea en un marco rectangular.\n",
        "#Ejercicio 3. (Con funcion)\n",
        "def my_function():\n",
        "  for i in range (9):\n",
        "   for j in range (9):\n",
        "     if (i == 0 or i == 8) and (1 <= j <= 9):\n",
        "       print (\"*\", end=\"\")\n",
        "     if (i == 1 and j == 6):\n",
        "       print (\"*Hola  *\", end=\"\")\n",
        "     if (i == 2 and j == 5):\n",
        "       print (\"*a     *\", end=\"\")\n",
        "     if (i == 3 and j == 4):\n",
        "       print (\"*todos *\", end=\"\")\n",
        "     if (i == 4 and j == 3):\n",
        "       print (\"*esto  *\", end=\"\")\n",
        "     if (i == 5 and j == 2):\n",
        "       print (\"*es    *\", end=\"\")\n",
        "     if (i == 6 and j == 1):\n",
        "       print (\"*un    *\", end=\"\")\n",
        "     if (i == 7 and j == 0):\n",
        "       print (\"*marco *\", end=\"\")\n",
        "   print ()\n",
        "\n",
        "my_function()\n"
      ],
      "metadata": {
        "colab": {
          "base_uri": "https://localhost:8080/"
        },
        "id": "PGH1kD2F-B-U",
        "outputId": "67062053-fca7-4927-ee85-31553f448845"
      },
      "execution_count": 88,
      "outputs": [
        {
          "output_type": "stream",
          "name": "stdout",
          "text": [
            "********\n",
            "*Hola  *\n",
            "*a     *\n",
            "*todos *\n",
            "*esto  *\n",
            "*es    *\n",
            "*un    *\n",
            "*marco *\n",
            "********\n"
          ]
        }
      ]
    }
  ]
}