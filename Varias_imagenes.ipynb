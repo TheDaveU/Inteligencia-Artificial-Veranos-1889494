{
  "nbformat": 4,
  "nbformat_minor": 0,
  "metadata": {
    "colab": {
      "name": "Varias imagenes.ipynb",
      "provenance": [],
      "mount_file_id": "1WBOi9kiP-Wg8ot6j_qGXMmycmdikfH7e",
      "authorship_tag": "ABX9TyOGPSIFQ8xwd3sm+vRkvFh1",
      "include_colab_link": true
    },
    "kernelspec": {
      "name": "python3",
      "display_name": "Python 3"
    },
    "language_info": {
      "name": "python"
    }
  },
  "cells": [
    {
      "cell_type": "markdown",
      "metadata": {
        "id": "view-in-github",
        "colab_type": "text"
      },
      "source": [
        "<a href=\"https://colab.research.google.com/github/mauej/Inteligencia-Artificial-Veranos-1889494/blob/main/Varias_imagenes.ipynb\" target=\"_parent\"><img src=\"https://colab.research.google.com/assets/colab-badge.svg\" alt=\"Open In Colab\"/></a>"
      ]
    },
    {
      "cell_type": "code",
      "execution_count": 26,
      "metadata": {
        "colab": {
          "base_uri": "https://localhost:8080/"
        },
        "id": "ibVUupWGT8Vg",
        "outputId": "a8529172-3997-4cea-dc0f-0b1d8b807dc8"
      },
      "outputs": [
        {
          "output_type": "stream",
          "name": "stdout",
          "text": [
            "['numero1_6.jpg', '2.5.png', 'numero1_10.jpg', '1C2766FC-1FED-4E76-A06F-9AEF260C3E40.jpeg', '19925CF7-E4F6-4AFE-BD40-9A0207899BE5.jpeg', '1186F2AC-D882-4CFA-9542-43F8336F71C3.jpeg', '2.1.png', '1.8.png', '1.9.png', '1323A4C2-6122-4E3E-872D-637E2A430ADA.jpeg', '2.2.png', '1.7.png', 'numero0_9.jpg', '2.10.png', 'numero0_8.jpg', '011E2627-B129-41D7-95C5-869A5FB967C8.jpeg', '09F627AC-89D2-479B-993D-E04483ABE374.jpeg', '1.6.png', '1.4.png', '1.2.png', '1.3.png', '1.1.png', '0D768D65-2602-490E-A1CB-26C8E775B2DE.jpeg', '1.10.png', 'numero0_7.jpg', '1.5.png', 'numero0_6.jpg', '0.7.png', '0.4.png', '0.5.png', '0.10.png', '0.6.png', '0.1.png', '0.9.png', '0.3.png', '0.8.png', 'numero0_10.jpg', '0.2.png', '4.7.png', 'numero2_8.jpg', '4.4.png', '3E909BEE-AB39-401A-BC49-50E1F17A538B.jpeg', '4.2.png', '3A1B4B41-4860-4DA2-81CF-495455F6CFA2.jpeg', '4.3.png', '4.10.png', '36DE30A5-7EFF-4FA6-BF9A-2FBAA65047CE.jpeg', 'numero2_7.jpg', '4.1.png', 'numero2_6.jpg', '4.5.png', '38B1B144-ABDE-4E47-ADF1-8C40D4A8F9CD.jpeg', 'numero2_10.jpg', '351F7135-3317-4DFC-9676-109C8A5318C0.jpeg', '3.6.png', '3.4.png', '3.8.png', '3.3.png', '35349E66-AD0B-4209-A2E4-54532E0D620E.jpeg', '3.7.png', '3.5.png', '3.9.png', 'numero1_9.jpg', '3.2.png', '2A6208C4-340A-49F6-86C9-374959B45A6D.jpeg', 'numero1_8.jpg', '2CE37CA1-E3B4-4FD0-801F-0403C2FE39B0.jpeg', '2D2E3C13-6C3B-4ABB-A3C1-625D5EF8969D.jpeg', '29D995B2-48DA-4815-8985-CA8948A01734.jpeg', '2DDEF6AE-C123-4ED3-8180-2939FCA3590C.jpeg', '2A3F022E-C467-4A42-9237-9B2D92E31204.jpeg', '275B7010-15F4-4F97-BA50-44780F6AA4F4.jpeg', '3.1.png', '279000BB-1287-41C3-A2EE-A292087A79D0.jpeg', '3.10.png', 'numero1_7.jpg', '2011E8F9-950A-47AB-801B-F6BBBBF4E859.jpeg', '269DB4F8-E7B2-4ED5-AAA8-80EDBA906A9C.jpeg', '2.3.png', '2.6.png', '2.4.png', '2.9.png', '2.8.png', '2.7.png', '23B4A30A-CF20-41EA-86F4-D2921D2C0B43.jpeg', 'numero4_7.jpg', '72039886-86C8-45A9-AD4F-E601F04E9003.jpeg', '73736A27-EF03-4AD7-9087-1E6A885ACA52.jpeg', '70559736-B585-4653-9951-EE2F3B5CD79B.jpeg', '7.9.png', '7.4.png', '7.6.png', '7.5.png', '7.7.png', '7.8.png', 'numero4_6.jpg', '7.3.png', 'numero4_10.jpg', '7.2.png', '7.10.png', '7.1.png', '6CE7BB1A-1327-41ED-80D3-DE3F7992F2FC.jpeg', '6A961EFD-DB5F-4A6D-AC61-C13DC18A1B3B.jpeg', '6BEDD2D7-5E0B-43C5-A341-4ED3099A80A4.jpeg', '6.9.png', '65C869E8-B658-4F4F-A7F2-4ED71B591305.jpeg', '6.8.png', 'numero3_9.jpg', '6.7.png', '5E5138F4-C4F3-4E12-B553-B59088FCAAF9.jpeg', '5F8CEA22-FC9C-43CF-A8F1-A664A14C9F3B.jpeg', '6.1.png', '58D86B6D-2D15-4882-8690-82C69D6A9BFD.jpeg', 'numero3_8.jpg', '6.6.png', '6.5.png', '6.10.png', '6.4.png', '6.2.png', 'numero3_7.jpg', '6.3.png', '52CAD110-5879-489D-A926-D745771B141E.jpeg', '5.9.png', '58C50E45-FD48-489E-B63B-F4D353C11D03.jpeg', 'numero3_6.jpg', '5.4.png', '5.7.png', '5.3.png', '5.6.png', '5.8.png', '5.5.png', '5.2.png', 'numero3_10.jpg', '459A4B09-5E73-4362-ADB8-8746F1247EB8.jpeg', '4942E7E5-CB71-4B7F-9434-DD57A3F9133B.jpeg', '4.6.png', '4BF8F41B-1A61-491F-92B7-74233E779175.jpeg', '4.8.png', '5.10.png', '4B2DE0E0-7D9C-4BE5-B198-AD8F7C7816FE.jpeg', '4.9.png', '5.1.png', 'numero2_9.jpg', 'AFD68AE6-E0C7-4E79-BCDA-4C3730F70771.jpeg', 'AED7B74D-392C-411E-B2D4-35B56117FA41.jpeg', 'AB5670DD-A58A-4A33-BB6B-6E50E7422E63.jpeg', 'numero6_8.jpg', 'A9C1A376-369A-4D73-8C3B-ADB054414D86.jpeg', 'A566EFD9-F069-41BE-8645-5D610725A664.jpeg', 'A703393F-079F-487C-A846-8883CDBD24E4.jpeg', 'A5163EF7-39BE-4A8D-BD68-DCB660A8727E.jpeg', 'numero6_10.jpg', 'A32CB376-5A52-4D9E-9EED-C74280386B9B.jpeg', 'A3E9F8F9-A433-48F0-9FFE-412DAB6DE850.jpeg', 'A2F346D9-02F2-4CF1-A6BD-7B32ADFA2D4F.jpeg', '9FC91EDD-CB20-467E-8129-9856940B4675.jpeg', 'A07A36CC-E45B-4E05-858C-75A3352BFAA7.jpeg', '9FC881C1-15AD-4CAA-8AC2-3D7C6FD55B68.jpeg', '997ACC93-6363-4777-B3A4-203DF3E5A410.jpeg', 'numero5_8.jpg', '9.3.png', '9.5.png', '9.2.png', '9.6.png', '9.9.png', '9.7.png', '9908B5E8-81FF-47E5-A0B2-834448FDFC7E.jpeg', '9.4.png', '9.8.png', 'numero5_7.jpg', '9.10.png', 'numero5_6.jpg', '9.1.png', '8A432F02-2111-4D59-9046-D03DC81E5740.jpeg', '87DC5A0D-A572-48A9-94A9-D74351948DF4.jpeg', '89DD6452-4B21-4F1B-AA4E-EEEB847CA564.jpeg', '8BD86FBA-A731-4869-92F1-9FE8B531C295.jpeg', 'numero5_10.jpg', '81EB1DAA-FF7F-4F48-AC32-E065768333D6.jpeg', '8.8.png', '8.9.png', '8044B5F4-6917-4066-A403-363356ED4E5C.jpeg', '8.7.png', 'numero4_9.jpg', '8.6.png', '8.5.png', '8.4.png', '8.3.png', '8.2.png', '8.10.png', '8.1.png', '74D4B055-925D-4C27-89D2-608A73460645.jpeg', '74AFC31D-CD1F-4749-A36B-2F03BB6B506F.jpeg', 'numero4_8.jpg', '740ED7DE-9747-4BA1-99BB-63E2F9E7AF9C.jpeg', 'numero8_6.jpg', 'FCAD0C44-7605-4A8A-8B05-46B8AAB9FE44.jpeg', 'FB70B01A-5FF3-4DA2-9E26-46431015209A.jpeg', 'F9D6CB1C-C933-42F9-9690-5BF84EFAC7BA.jpeg', 'F842C7A2-3473-4C84-9F41-B02079E7EECE.jpeg', 'F7FABF9A-F09E-4A27-BC52-F0E1A917051C.jpeg', 'F744CB01-2753-4D50-903F-018BB179E9E1.jpeg', 'F5E6EA80-05EB-441D-8C3C-8471B992AD5A.jpeg', 'F1DF55D2-A015-425B-9325-BC1F8C9F58F7.jpeg', 'F0C5F8B6-A089-4EE8-9C29-B2D7EC957297.jpeg', 'numero8_10.jpg', 'EDAE1BC0-C91C-4C0C-8D7B-3B8FD26EF20F.jpeg', 'ED995DA4-34C6-40D7-A39A-BCF6BD5C6B88.jpeg', 'numero7_9.jpg', 'EBB713D4-2F44-4597-A77B-F5D2CAC48038.jpeg', 'EB1BC85A-991E-4AB7-AE5C-7588E7988104.jpeg', 'EAEBAEC6-E728-4635-8046-EA56033C9C3E.jpeg', 'E91D26CD-DB33-43AD-B95E-84CA4CD8F0F6.jpeg', 'E135A550-6FDB-4190-AA77-7C6CE125C990.jpeg', 'DB4F9BC0-2485-4FB5-AC3A-033A02445EBE.jpeg', 'DAFFF5B9-EFC7-401B-B84D-9B84B7529E46.jpeg', 'D86EC263-7C70-45B1-A29A-00D70EE43E75.jpeg', 'numero7_8.jpg', 'D71E8168-5FC9-4C1A-B5A2-09FE949B9930.jpeg', 'D3B588BD-3B25-4483-BDCA-40566739F340.jpeg', 'D1DB4352-3E77-4275-98CA-B67F12F5DEE3.jpeg', 'CFBCAB9B-05F4-472C-9BD0-C1786556DB5F.jpeg', 'CF862758-0FE5-47FF-9F90-334FCD471A6C.jpeg', 'numero7_10.jpg', 'CC581C07-69E5-437A-937B-53E37C479B16.jpeg', 'C6581CFA-C5BA-4FF8-A0FD-4CB6996EDEA2.jpeg', 'C57F62B4-C321-4960-B5BC-A560DC8B63D9.jpeg', 'C4EA6925-25E3-4DEF-BCCB-70AA70138A4B.jpeg', 'C40D37D6-6B24-4101-82F0-5D6B8533F483.jpeg', 'BFFE8310-321C-4047-A32E-595B5B61932D.jpeg', 'numero6_9.jpg', 'BBE05C51-55D6-47AF-BAF8-8AD89EBDD19B.jpeg', 'BBB5EA2F-7621-4A49-860A-14EAF26A0690.jpeg', 'B4C99EFA-4432-483D-8BDB-50206228294A.jpeg', 'B40EE014-8F7E-4393-BAE5-C65C1881197B.jpeg', 'B362BA9A-463D-42F3-934C-A91805C68B46.jpeg', 'B0E28479-8E44-4355-9C28-F0EB48BAFD6F.jpeg', 'numero7_6.jpg', 'numero7_5.JPG', 'numero7_4.JPG', 'numero9_8.jpg', 'numero7_3.JPG', 'numero9_7.jpg', 'numero7_2.JPG', 'numero7_1.JPG', 'numero6_7.jpg', 'numero6_6.jpg', 'numero6_4.JPG', 'numero6_3.JPG', 'numero6_5.JPG', 'numero6_2.JPG', 'numero6_1.JPG', 'numero5_9.jpg', 'numero9_6.jpg', 'numero5_4.JPG', 'numero5_3.JPG', 'numero5_5.JPG', 'numero5_2.JPG', 'numero4_3.JPG', 'numero4_4.JPG', 'numero4_5.JPG', 'numero5_1.JPG', 'numero4_2.JPG', 'numero9_10.jpg', 'numero4_1.JPG', 'numero8_9.jpg', 'numero3_3.JPG', 'numero3_5.JPG', 'numero3_4.JPG', 'numero3_2.JPG', 'numero3_1.JPG', 'numero2_3.JPG', 'numero2_4.JPG', 'numero2_5.JPG', 'numero2_2.JPG', 'numero8_8.jpg', 'numero2_1.JPG', 'numero1_5.JPG', 'numero1_4.JPG', 'numero1_2.JPG', 'numero1_3.JPG', 'numero8_7.jpg', 'numero1_1.JPG', 'numero0_3.JPG', 'numero0_2.JPG', 'numero0_4.JPG', 'numero0_5.JPG', 'numero0_1.JPG', 'Numeros _42.jpg', 'Numeros _41.jpg', 'Numeros _40.jpg', 'Numeros _4.jpg', 'Numeros _35.jpg', 'Numeros _36.jpg', 'Numeros _39.jpg', 'Numeros _38.jpg', 'Numeros _37.jpg', 'Numeros _34.jpg', 'Numeros _33.jpg', 'Numeros _32.jpg', 'Numeros _31.jpg', 'Numeros _27.jpg', 'Numeros _30.jpg', 'Numeros _3.jpg', 'Numeros _28.jpg', 'Numeros _25.jpg', 'Numeros _26.jpg', 'Numeros _29.jpg', 'Numeros _24.jpg', 'Numeros _23.jpg', 'Numeros _22.jpg', 'Numeros _21.jpg', 'Numeros _20.jpg', 'Numeros _2.jpg', 'Numeros _19.jpg', 'Numeros _18.jpg', 'Numeros _17.jpg', 'Numeros _15.jpg', 'Numeros _14.jpg', 'Numeros _16.jpg', 'Numeros _13.jpg', 'Numeros _11.jpg', 'Numeros _12.jpg', 'Numeros _100.jpg', 'Numeros _10.jpg', 'numero9_4.JPG', 'Numeros _1.jpg', 'numero9_5.JPG', 'numero9_2.JPG', 'numero9_3.JPG', 'numero9_1.JPG', 'numero8_5.JPG', 'numero8_4.JPG', 'numero8_3.JPG', 'numero8_2.JPG', 'numero8_1.JPG', 'numero7_7.jpg', 'numero9_9.jpg', 'Numeros _86.jpg', 'Numeros _84.jpg', 'Numeros _81.jpg', 'Numeros _82.jpg', 'Numeros _83.jpg', 'Numeros _85.jpg', 'Numeros _80.jpg', 'Numeros _8.jpg', 'Numeros _79.jpg', 'Numeros _78.jpg', 'Numeros _77.jpg', 'Numeros _74.jpg', 'Numeros _73.jpg', 'Numeros _72.jpg', 'Numeros _75.jpg', 'Numeros _76.jpg', 'Numeros _71.jpg', 'Numeros _70.jpg', 'Numeros _7.jpg', 'Numeros _68.jpg', 'Numeros _69.jpg', 'Numeros _62.jpg', 'Numeros _65.jpg', 'Numeros _67.jpg', 'Numeros _64.jpg', 'Numeros _63.jpg', 'Numeros _66.jpg', 'Numeros _61.jpg', 'Numeros _60.jpg', 'Numeros _6.jpg', 'Numeros _59.jpg', 'Numeros _56.jpg', 'Numeros _58.jpg', 'Numeros _55.jpg', 'Numeros _57.jpg', 'Numeros _54.jpg', 'Numeros _53.jpg', 'Numeros _52.jpg', 'Numeros _51.jpg', 'Numeros _50.jpg', 'Numeros _5.jpg', 'Numeros _44.jpg', 'Numeros _49.jpg', 'Numeros _45.jpg', 'Numeros _47.jpg', 'Numeros _46.jpg', 'Numeros _43.jpg', 'Numeros _48.jpg', 'Numeros _99.jpg', 'Numeros _98.jpg', 'Numeros _97.jpg', 'Numeros _96.jpg', 'Numeros _95.jpg', 'Numeros _93.jpg', 'Numeros _92.jpg', 'Numeros _91.jpg', 'Numeros _94.jpg', 'Numeros _90.jpg', 'Numeros _9.jpg', 'Numeros _89.jpg', 'Numeros _88.jpg', 'Numeros _87.jpg']\n"
          ]
        }
      ],
      "source": [
        "import cv2\n",
        "import os\n",
        "import matplotlib.pyplot as plt\n",
        "\n",
        "\n",
        "input_images_path = \"/content/drive/MyDrive/numeros\"\n",
        "file_names = os.listdir(input_images_path)\n",
        "print(file_names)\n"
      ]
    },
    {
      "cell_type": "code",
      "source": [
        "image_array = []\n",
        "\n",
        "for file_name in file_names:\n",
        "  #print(file_name)\n",
        "  image_path = input_images_path + \"/\" + file_name\n",
        "  image_test = cv2.imread(image_path)\n",
        "  #print (file_name)\n",
        "  img_resized = cv2.resize(image_test, (28,28))\n",
        "  img_resized = cv2.bitwise_not(img_resized)\n",
        "  image_array.append(img_resized)\n",
        "  #img_resized = cv2.bitwise_not(img_resized)\n",
        "\n",
        "\n"
      ],
      "metadata": {
        "id": "0UY5Q9Y0ZA13"
      },
      "execution_count": 27,
      "outputs": []
    },
    {
      "cell_type": "code",
      "source": [
        "#Ejemplo 1\n",
        "plt.imshow(image_array[17], cmap=\"gray\")"
      ],
      "metadata": {
        "colab": {
          "base_uri": "https://localhost:8080/",
          "height": 282
        },
        "id": "yMgJXnxSdrRV",
        "outputId": "4a141e23-71db-45c0-894e-83a6e789a7b0"
      },
      "execution_count": 28,
      "outputs": [
        {
          "output_type": "execute_result",
          "data": {
            "text/plain": [
              "<matplotlib.image.AxesImage at 0x7f1262d9f7d0>"
            ]
          },
          "metadata": {},
          "execution_count": 28
        },
        {
          "output_type": "display_data",
          "data": {
            "text/plain": [
              "<Figure size 432x288 with 1 Axes>"
            ],
            "image/png": "[encoded data removed]"
          },
          "metadata": {
            "needs_background": "light"
          }
        }
      ]
    },
    {
      "cell_type": "code",
      "source": [
        "#Ejemplo 2\n",
        "plt.imshow(image_array[100], cmap=\"gray\")"
      ],
      "metadata": {
        "colab": {
          "base_uri": "https://localhost:8080/",
          "height": 282
        },
        "id": "aQIiZVwSJH5D",
        "outputId": "17d0ac26-7b8d-4f88-d649-17e49854fd0d"
      },
      "execution_count": 29,
      "outputs": [
        {
          "output_type": "execute_result",
          "data": {
            "text/plain": [
              "<matplotlib.image.AxesImage at 0x7f1262d85fd0>"
            ]
          },
          "metadata": {},
          "execution_count": 29
        },
        {
          "output_type": "display_data",
          "data": {
            "text/plain": [
              "<Figure size 432x288 with 1 Axes>"
            ],
            "image/png": "[encoded data removed]"
          },
          "metadata": {
            "needs_background": "light"
          }
        }
      ]
    },
    {
      "cell_type": "code",
      "source": [
        "#Ejemplo 3\n",
        "plt.imshow(image_array[399], cmap=\"gray\")"
      ],
      "metadata": {
        "colab": {
          "base_uri": "https://localhost:8080/",
          "height": 282
        },
        "id": "xo9XOmr4JH_d",
        "outputId": "c2c92173-f3e7-4212-e09c-ee1c18cc1d47"
      },
      "execution_count": 30,
      "outputs": [
        {
          "output_type": "execute_result",
          "data": {
            "text/plain": [
              "<matplotlib.image.AxesImage at 0x7f1262cf8650>"
            ]
          },
          "metadata": {},
          "execution_count": 30
        },
        {
          "output_type": "display_data",
          "data": {
            "text/plain": [
              "<Figure size 432x288 with 1 Axes>"
            ],
            "image/png": "[encoded data removed]"
          },
          "metadata": {
            "needs_background": "light"
          }
        }
      ]
    }
  ]
}