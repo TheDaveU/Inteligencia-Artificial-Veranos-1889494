{
  "nbformat": 4,
  "nbformat_minor": 0,
  "metadata": {
    "colab": {
      "name": "Act3_PIA_parte1_Equipo2.ipynb",
      "provenance": [],
      "mount_file_id": "1WBOi9kiP-Wg8ot6j_qGXMmycmdikfH7e",
      "authorship_tag": "ABX9TyMOpX1RL0R2d9EvD0uwBB+L",
      "include_colab_link": true
    },
    "kernelspec": {
      "name": "python3",
      "display_name": "Python 3"
    },
    "language_info": {
      "name": "python"
    }
  },
  "cells": [
    {
      "cell_type": "markdown",
      "metadata": {
        "id": "view-in-github",
        "colab_type": "text"
      },
      "source": [
        "<a href=\"https://colab.research.google.com/github/mauej/Inteligencia-Artificial-Veranos-1889494/blob/main/Act3_PIA_parte1_Equipo2.ipynb\" target=\"_parent\"><img src=\"https://colab.research.google.com/assets/colab-badge.svg\" alt=\"Open In Colab\"/></a>"
      ]
    },
    {
      "cell_type": "code",
      "execution_count": 31,
      "metadata": {
        "id": "ibVUupWGT8Vg"
      },
      "outputs": [],
      "source": [
        "import cv2\n",
        "import os\n",
        "import matplotlib.pyplot as plt\n",
        "\n",
        "\n",
        "input_images_path = \"/content/drive/MyDrive/numeros\"\n",
        "file_names = os.listdir(input_images_path)\n",
        "#print(file_names)\n"
      ]
    },
    {
      "cell_type": "code",
      "source": [
        "image_array = []\n",
        "\n",
        "for file_name in file_names:\n",
        "  #print(file_name)\n",
        "  image_path = input_images_path + \"/\" + file_name\n",
        "  image_test = cv2.imread(image_path)\n",
        "  #print (file_name)\n",
        "  img_resized = cv2.resize(image_test, (28,28))\n",
        "  img_resized = cv2.bitwise_not(img_resized)\n",
        "  image_array.append(img_resized)\n",
        "  #img_resized = cv2.bitwise_not(img_resized)\n",
        "\n",
        "\n"
      ],
      "metadata": {
        "id": "0UY5Q9Y0ZA13"
      },
      "execution_count": 32,
      "outputs": []
    },
    {
      "cell_type": "code",
      "source": [
        "#Ejemplo 1\n",
        "plt.imshow(image_array[17], cmap=\"gray\")"
      ],
      "metadata": {
        "colab": {
          "base_uri": "https://localhost:8080/",
          "height": 282
        },
        "id": "yMgJXnxSdrRV",
        "outputId": "a13e7cb5-e778-4729-cdca-2bd385ec122f"
      },
      "execution_count": 33,
      "outputs": [
        {
          "output_type": "execute_result",
          "data": {
            "text/plain": [
              "<matplotlib.image.AxesImage at 0x7f1262f72790>"
            ]
          },
          "metadata": {},
          "execution_count": 33
        },
        {
          "output_type": "display_data",
          "data": {
            "text/plain": [
              "<Figure size 432x288 with 1 Axes>"
            ],
            "image/png": "[encoded data removed]"
          },
          "metadata": {
            "needs_background": "light"
          }
        }
      ]
    },
    {
      "cell_type": "code",
      "source": [
        "#Ejemplo 2\n",
        "plt.imshow(image_array[100], cmap=\"gray\")"
      ],
      "metadata": {
        "colab": {
          "base_uri": "https://localhost:8080/",
          "height": 282
        },
        "id": "aQIiZVwSJH5D",
        "outputId": "0c803e31-be13-4cce-fe68-993ea9e2147d"
      },
      "execution_count": 34,
      "outputs": [
        {
          "output_type": "execute_result",
          "data": {
            "text/plain": [
              "<matplotlib.image.AxesImage at 0x7f1262d19890>"
            ]
          },
          "metadata": {},
          "execution_count": 34
        },
        {
          "output_type": "display_data",
          "data": {
            "text/plain": [
              "<Figure size 432x288 with 1 Axes>"
            ],
            "image/png": "[encoded data removed]"
          },
          "metadata": {
            "needs_background": "light"
          }
        }
      ]
    },
    {
      "cell_type": "code",
      "source": [
        "#Ejemplo 3\n",
        "plt.imshow(image_array[399], cmap=\"gray\")"
      ],
      "metadata": {
        "colab": {
          "base_uri": "https://localhost:8080/",
          "height": 282
        },
        "id": "xo9XOmr4JH_d",
        "outputId": "30208a18-3422-4db9-8dbe-3429525a33a1"
      },
      "execution_count": 35,
      "outputs": [
        {
          "output_type": "execute_result",
          "data": {
            "text/plain": [
              "<matplotlib.image.AxesImage at 0x7f1262c156d0>"
            ]
          },
          "metadata": {},
          "execution_count": 35
        },
        {
          "output_type": "display_data",
          "data": {
            "text/plain": [
              "<Figure size 432x288 with 1 Axes>"
            ],
            "image/png": "[encoded data removed]"
          },
          "metadata": {
            "needs_background": "light"
          }
        }
      ]
    }
  ]
}